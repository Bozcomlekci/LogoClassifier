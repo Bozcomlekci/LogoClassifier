{
 "cells": [
  {
   "cell_type": "code",
   "execution_count": null,
   "id": "f6dc6c7d",
   "metadata": {},
   "outputs": [],
   "source": [
    "import mmcls\n",
    "from mmcls.apis import inference_model, init_model, show_result_pyplot\n",
    "\n",
    "import os\n",
    "import torch\n",
    "\n",
    "device = torch.device('cuda' if torch.cuda.is_available() else 'cpu')\n",
    "print('Using device:', device)\n",
    "\n",
    "if device.type == 'cuda':\n",
    "    print(torch.cuda.get_device_name(0))\n",
    "    print('Memory Usage:')\n",
    "    print('Allocated:', round(torch.cuda.memory_allocated(0)/1024**3,1), 'GB')\n",
    "    print('Cached:   ', round(torch.cuda.memory_reserved(0)/1024**3,1), 'GB')\n",
    "\n",
    "torch.cuda.empty_cache()"
   ]
  },
  {
   "cell_type": "markdown",
   "id": "784faffe",
   "metadata": {},
   "source": [
    "## Logo Classification Using MMClassification"
   ]
  },
  {
   "cell_type": "markdown",
   "id": "1bd9ac3f",
   "metadata": {},
   "source": [
    "<strong>Modify myconfig.py file to adjust dataset, model and optimizer options as described in [the tutorial](https://mmclassification.readthedocs.io/en/latest/tutorials/finetune.html)</strong>"
   ]
  },
  {
   "cell_type": "code",
   "execution_count": null,
   "id": "e81dca82",
   "metadata": {
    "scrolled": false
   },
   "outputs": [],
   "source": [
    "!python configs/cls_tools/train.py configs/custom_config/myconfig.py --device cuda\n",
    "#--work-dir outputs"
   ]
  },
  {
   "cell_type": "code",
   "execution_count": null,
   "id": "51ed1239",
   "metadata": {},
   "outputs": [],
   "source": [
    "!python configs/cls_tools/test.py configs/custom_config/myconfig.py pretrains/latest.pth --metrics=accuracy --metric-options=topk=5"
   ]
  },
  {
   "cell_type": "code",
   "execution_count": null,
   "id": "e1143259",
   "metadata": {
    "scrolled": false
   },
   "outputs": [],
   "source": [
    "config_file = 'configs/custom_config/myconfig.py'\n",
    "checkpoint_file = 'pretrains/latest.pth'\n",
    "device = 'cuda:0'\n",
    "model = init_model(config_file, checkpoint_file, device=device)\n",
    "\n",
    "img = 'examples/exp.png'\n",
    "result = inference_model(model=model, img=img)\n",
    "print(result)\n",
    "show_result_pyplot(model, img, result)"
   ]
  },
  {
   "cell_type": "markdown",
   "id": "1c7145cb",
   "metadata": {},
   "source": [
    "## Alternative way"
   ]
  },
  {
   "cell_type": "markdown",
   "id": "a6f422cf",
   "metadata": {},
   "source": [
    "Alternatively traning can be initiated as a python code without bash"
   ]
  },
  {
   "cell_type": "code",
   "execution_count": null,
   "id": "ef5f0059",
   "metadata": {},
   "outputs": [],
   "source": [
    "############################OPTIONALLY ADJUST CONFIG FILES###############################\n",
    "#An extensive list of configurations can be found in https://github.com/open-mmlab/mmclassification/tree/master/configs\n",
    "cls_model = 'resnet/resnet50_b32x8_imagenet.py'\n",
    "cls_config = os.path.join('configs/configs_cls', cls_model)\n",
    "\n",
    "!wget 'https://download.openmmlab.com/mmclassification/v0/resnet/resnet50_batch256_imagenet_20200708-cfb998bf.pth' -P pretrains \n",
    "cls_ckpt = os.path.join('pretrains','resnet50_batch256_imagenet_20200708-cfb998bf.pth')\n",
    "#########################################################################################"
   ]
  },
  {
   "cell_type": "code",
   "execution_count": null,
   "id": "5275db03",
   "metadata": {},
   "outputs": [],
   "source": [
    "import argparse\n",
    "import copy\n",
    "import os\n",
    "import os.path as osp\n",
    "import time\n",
    "\n",
    "import mmcv\n",
    "import torch\n",
    "from mmcv import Config, DictAction\n",
    "from mmcv.runner import get_dist_info, init_dist\n",
    "\n",
    "from mmcls import __version__\n",
    "from mmcls.apis import set_random_seed, train_model\n",
    "from mmcls.datasets import build_dataset\n",
    "from mmcls.models import build_classifier\n",
    "from mmcls.utils import collect_env, get_root_logger\n",
    "\n",
    "\n",
    "def train( config_path, options = None, work_dir = None, pretrained = None, device = 'cpu'\n",
    "          gpu_ids = None, gpus = None, launcher = None, seed = None, deterministic = None\n",
    "          no_validate = None):\n",
    "\n",
    "    cfg = Config.fromfile(config_path)\n",
    "    if options is not None:\n",
    "        cfg.merge_from_dict(options)\n",
    "\n",
    "    if work_dir is not None:\n",
    "        cfg.work_dir = work_dir\n",
    "    elif cfg.get('work_dir', None) is None:\n",
    "        cfg.work_dir = osp.join('./work_dirs', osp.splitext(osp.basename(config))[0])\n",
    "        \n",
    "    if pretrained is not None:\n",
    "        cfg.resume_from = pretrained\n",
    "        \n",
    "    if gpu_ids is not None:\n",
    "        cfg.gpu_ids = gpu_ids\n",
    "    else:\n",
    "        cfg.gpu_ids = range(1) if gpus is None else range(gpus)\n",
    "\n",
    "    if launcher == 'none':\n",
    "        distributed = False\n",
    "    else:\n",
    "        distributed = True\n",
    "        init_dist(launcher, **cfg.dist_params)\n",
    "        _, world_size = get_dist_info()\n",
    "        gpu_ids = range(world_size)\n",
    "\n",
    "    mmcv.mkdir_or_exist(osp.abspath(cfg.work_dir))\n",
    "    cfg.dump(osp.join(cfg.work_dir, osp.basename(config)))\n",
    "    timestamp = time.strftime('%Y%m%d_%H%M%S', time.localtime())\n",
    "    log_file = osp.join(cfg.work_dir, f'{timestamp}.log')\n",
    "    logger = get_root_logger(log_file=log_file, log_level=cfg.log_level)\n",
    "\n",
    "    meta = dict()\n",
    "    env_info_dict = collect_env()\n",
    "    env_info = '\\n'.join([(f'{k}: {v}') for k, v in env_info_dict.items()])\n",
    "    dash_line = '-' * 60 + '\\n'\n",
    "    logger.info('Environment info:\\n' + dash_line + env_info + '\\n' +\n",
    "                dash_line)\n",
    "    meta['env_info'] = env_info\n",
    "\n",
    "    logger.info(f'Distributed training: {distributed}')\n",
    "    logger.info(f'Config:\\n{cfg.pretty_text}')\n",
    "\n",
    "    if seed is not None:\n",
    "        logger.info(f'Set random seed to {seed}, '\n",
    "                    f'deterministic: {deterministic}')\n",
    "        set_random_seed(seed, deterministic=deterministic)\n",
    "    cfg.seed = seed\n",
    "    meta['seed'] = seed\n",
    "\n",
    "    model = build_classifier(cfg.model)\n",
    "    model.init_weights()\n",
    "\n",
    "    datasets = [build_dataset(cfg.data.train)]\n",
    "    if len(cfg.workflow) == 2:\n",
    "        val_dataset = copy.deepcopy(cfg.data.val)\n",
    "        val_dataset.pipeline = cfg.data.train.pipeline\n",
    "        datasets.append(build_dataset(val_dataset))\n",
    "    if cfg.checkpoint_config is not None:\n",
    "        # save mmcls version, config file content and class names in\n",
    "        # checkpoints as meta data\n",
    "        cfg.checkpoint_config.meta = dict(\n",
    "            mmcls_version=__version__,\n",
    "            config=cfg.pretty_text,\n",
    "            CLASSES=datasets[0].CLASSES)\n",
    "    # add an attribute for visualization convenience\n",
    "    train_model(model,datasets,cfg,\n",
    "        distributed=distributed,\n",
    "        validate=(not no_validate),\n",
    "        timestamp=timestamp,\n",
    "        device=device,\n",
    "        meta=meta)"
   ]
  },
  {
   "cell_type": "code",
   "execution_count": null,
   "id": "abe3b5ae",
   "metadata": {},
   "outputs": [],
   "source": [
    "config_path = custom_config/myconfig.py\n",
    "train( config_path, device='cuda' )"
   ]
  }
 ],
 "metadata": {
  "kernelspec": {
   "display_name": "Python 3",
   "language": "python",
   "name": "python3"
  },
  "language_info": {
   "codemirror_mode": {
    "name": "ipython",
    "version": 3
   },
   "file_extension": ".py",
   "mimetype": "text/x-python",
   "name": "python",
   "nbconvert_exporter": "python",
   "pygments_lexer": "ipython3",
   "version": "3.7.10"
  }
 },
 "nbformat": 4,
 "nbformat_minor": 5
}
