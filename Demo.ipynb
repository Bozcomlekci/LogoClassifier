{
 "cells": [
  {
   "cell_type": "code",
   "execution_count": null,
   "id": "aa0c1499",
   "metadata": {},
   "outputs": [],
   "source": [
    "import mmcls\n",
    "from mmcls.apis import inference_model, init_model, show_result_pyplot\n",
    "\n",
    "import os\n",
    "import torch \n",
    "import io\n",
    "\n",
    "import ipywidgets as widgets\n",
    "from PIL import Image\n",
    "\n",
    "import mmcv\n",
    "import matplotlib.pyplot as plt\n",
    "\n",
    "from mmdet.apis import init_detector\n",
    "\n",
    "from mmocr.apis.inference import model_inference\n",
    "from mmocr.core.visualize import det_recog_show_result\n",
    "from mmocr.datasets.pipelines.crop import crop_img\n",
    "\n",
    "device = torch.device('cuda' if torch.cuda.is_available() else 'cpu')\n",
    "print('Using device:', device)\n",
    "\n",
    "if device.type == 'cuda':\n",
    "    print(torch.cuda.get_device_name(0))\n",
    "    print('Memory Usage:')\n",
    "    print('Allocated:', round(torch.cuda.memory_allocated(0)/1024**3,1), 'GB')\n",
    "    print('Cached:   ', round(torch.cuda.memory_reserved(0)/1024**3,1), 'GB')\n",
    "    "
   ]
  },
  {
   "cell_type": "code",
   "execution_count": null,
   "id": "3b0c2e48",
   "metadata": {},
   "outputs": [],
   "source": [
    "dtcfg = 'configs/configs_ocr/textdet/drrg/drrg_r50_fpn_unet_1200e_ctw1500.py'\n",
    "rccfg = 'configs/configs_ocr/textrecog/robust_scanner/robustscanner_r31_academic.py'\n",
    "dtckpt = 'https://download.openmmlab.com/mmocr/textdet/drrg/drrg_r50_fpn_unet_1200e_ctw1500-1abf4f67.pth'\n",
    "rcckpt = 'https://download.openmmlab.com/mmocr/textrecog/robustscanner/robustscanner_r31_academic-5f05874f.pth'\n",
    "out = 'ocr_out.jpg'\n",
    "checkpoint = 'pretrains/latest.pth'\n",
    "img = 'uploaded.png'"
   ]
  },
  {
   "cell_type": "code",
   "execution_count": null,
   "id": "c1d81c10",
   "metadata": {},
   "outputs": [],
   "source": [
    "def det_and_recog_inference(img, det_model, recog_model):\n",
    "    image_path = img\n",
    "    end2end_res = {'filename': image_path}\n",
    "    end2end_res['result'] = []\n",
    "\n",
    "    image = mmcv.imread(image_path)\n",
    "    det_result = model_inference(det_model, image)\n",
    "    bboxes = det_result['boundary_result']\n",
    "\n",
    "    box_imgs = []\n",
    "    for bbox in bboxes:\n",
    "        box_res = {}\n",
    "        box_res['box'] = [round(x) for x in bbox[:-1]]\n",
    "        box_res['box_score'] = float(bbox[-1])\n",
    "        box = bbox[:8]\n",
    "        if len(bbox) > 9:\n",
    "            min_x = min(bbox[0:-1:2])\n",
    "            min_y = min(bbox[1:-1:2])\n",
    "            max_x = max(bbox[0:-1:2])\n",
    "            max_y = max(bbox[1:-1:2])\n",
    "            box = [min_x, min_y, max_x, min_y, max_x, max_y, min_x, max_y]\n",
    "        box_img = crop_img(image, box)\n",
    "        recog_result = model_inference(recog_model, box_img)\n",
    "        text = recog_result['text']\n",
    "        text_score = recog_result['score']\n",
    "        if isinstance(text_score, list):\n",
    "            text_score = sum(text_score) / max(1, len(text))\n",
    "        box_res['text'] = text\n",
    "        box_res['text_score'] = text_score\n",
    "\n",
    "        end2end_res['result'].append(box_res)\n",
    "\n",
    "    return end2end_res\n",
    "\n",
    "#!python demo/ocr_image_demo.py /content/Invoice.png demo/output.jpg\n",
    "\n",
    "def detectLogoText( img, out_file, \n",
    "                 det_config ='./configs/textdet/psenet/psenet_r50_fpnf_600e_icdar2015.py',\n",
    "                 det_ckpt = 'https://download.openmmlab.com/mmocr/textdet/psenet/psenet_r50_fpnf_600e_icdar2015_pretrain-eefd8fe6.pth',\n",
    "                 recog_config = './configs/textrecog/sar/sar_r31_parallel_decoder_academic.py',\n",
    "                 recog_ckpt = 'https://download.openmmlab.com/mmocr/textrecog/sar/sar_r31_parallel_decoder_academic-dba3a4a3.pth',\n",
    "                 device = 'cuda:0'\n",
    "                ):\n",
    "    # build detect model\n",
    "    detect_model = init_detector(det_config, det_ckpt, device=device)\n",
    "    if hasattr(detect_model, 'module'):\n",
    "        detect_model = detect_model.module\n",
    "    if detect_model.cfg.data.test['type'] == 'ConcatDataset':\n",
    "        detect_model.cfg.data.test.pipeline = \\\n",
    "            detect_model.cfg.data.test['datasets'][0].pipeline\n",
    "\n",
    "    # build recog model\n",
    "    recog_model = init_detector(recog_config, recog_ckpt, device=device)\n",
    "    if hasattr(recog_model, 'module'):\n",
    "        recog_model = recog_model.module\n",
    "    if recog_model.cfg.data.test['type'] == 'ConcatDataset':\n",
    "        recog_model.cfg.data.test.pipeline = \\\n",
    "            recog_model.cfg.data.test['datasets'][0].pipeline\n",
    "\n",
    "    det_recog_result = det_and_recog_inference(img, detect_model, recog_model)\n",
    "    mmcv.dump(\n",
    "        det_recog_result,\n",
    "        out_file + '.json',\n",
    "        ensure_ascii=False,\n",
    "        indent=4)\n",
    "\n",
    "    img = det_recog_show_result(img, det_recog_result)\n",
    "    mmcv.imwrite(img, out_file)\n",
    "    plt.figure(figsize = (256,256))\n",
    "    plt.imshow(img)"
   ]
  },
  {
   "cell_type": "code",
   "execution_count": null,
   "id": "1fcb0ab3",
   "metadata": {},
   "outputs": [],
   "source": [
    "def ocr_and_classify(checkpoint_file = 'pretrains/latest.pth', img='examples/exp.jpg'):\n",
    "    config_file = 'configs/custom_config/myconfig.py'\n",
    "    device = 'cuda:0'\n",
    "    model = init_model(config_file, checkpoint_file, device=device)\n",
    "    \n",
    "    result = inference_model(model=model, img=img)\n",
    "    print(result)\n",
    "    show_result_pyplot(model, img, result)\n",
    "    \n",
    "    detectLogoText(img, out, det_config=dtcfg, recog_config=rccfg, det_ckpt=dtckpt, recog_ckpt=rcckpt)"
   ]
  },
  {
   "cell_type": "code",
   "execution_count": null,
   "id": "98a4c41d",
   "metadata": {},
   "outputs": [],
   "source": [
    "uploader = widgets.FileUpload( multiple=False )\n",
    "display(uploader)"
   ]
  },
  {
   "cell_type": "code",
   "execution_count": null,
   "id": "81628761",
   "metadata": {},
   "outputs": [],
   "source": [
    "for name, file_info in uploader.value.items():\n",
    "    image = Image.open(io.BytesIO(file_info['content']))\n",
    "    image.save(img)"
   ]
  },
  {
   "cell_type": "code",
   "execution_count": null,
   "id": "ff61a8b3",
   "metadata": {},
   "outputs": [],
   "source": [
    "ocr_and_classify(checkpoint_file = checkpoint, img = img)"
   ]
  }
 ],
 "metadata": {
  "kernelspec": {
   "display_name": "Python 3",
   "language": "python",
   "name": "python3"
  },
  "language_info": {
   "codemirror_mode": {
    "name": "ipython",
    "version": 3
   },
   "file_extension": ".py",
   "mimetype": "text/x-python",
   "name": "python",
   "nbconvert_exporter": "python",
   "pygments_lexer": "ipython3",
   "version": "3.7.10"
  }
 },
 "nbformat": 4,
 "nbformat_minor": 5
}
